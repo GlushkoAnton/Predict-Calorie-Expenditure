{
 "cells": [
  {
   "cell_type": "markdown",
   "id": "f4b53a74",
   "metadata": {
    "papermill": {
     "duration": 0.007633,
     "end_time": "2025-05-28T09:11:11.963050",
     "exception": false,
     "start_time": "2025-05-28T09:11:11.955417",
     "status": "completed"
    },
    "tags": []
   },
   "source": [
    "# 1. Introduction & Setup\n",
    "## Loading Libraries\n",
    "This section loads essential libraries for data manipulation and analysis."
   ]
  },
  {
   "cell_type": "code",
   "execution_count": 1,
   "id": "72e961cc",
   "metadata": {
    "_cell_guid": "b1076dfc-b9ad-4769-8c92-a6c4dae69d19",
    "_uuid": "8f2839f25d086af736a60e9eeb907d3b93b6e0e5",
    "execution": {
     "iopub.execute_input": "2025-05-28T09:11:11.977917Z",
     "iopub.status.busy": "2025-05-28T09:11:11.977682Z",
     "iopub.status.idle": "2025-05-28T09:11:13.540574Z",
     "shell.execute_reply": "2025-05-28T09:11:13.539720Z"
    },
    "papermill": {
     "duration": 1.572511,
     "end_time": "2025-05-28T09:11:13.542195",
     "exception": false,
     "start_time": "2025-05-28T09:11:11.969684",
     "status": "completed"
    },
    "tags": []
   },
   "outputs": [],
   "source": [
    "# This Python 3 environment comes with many helpful analytics libraries installed\n",
    "# It is defined by the kaggle/python Docker image: https://github.com/kaggle/docker-python\n",
    "# For example, here's several helpful packages to load\n",
    "\n",
    "import numpy as np # linear algebra\n",
    "import pandas as pd # data processing, CSV file I/O (e.g. pd.read_csv)"
   ]
  },
  {
   "cell_type": "markdown",
   "id": "158f6bee",
   "metadata": {
    "papermill": {
     "duration": 0.00699,
     "end_time": "2025-05-28T09:11:13.556919",
     "exception": false,
     "start_time": "2025-05-28T09:11:13.549929",
     "status": "completed"
    },
    "tags": []
   },
   "source": [
    "## Listing Input Files\n",
    "This code snippet lists all files available in the input directory, typically containing the competition datasets."
   ]
  },
  {
   "cell_type": "code",
   "execution_count": 2,
   "id": "8353b85d",
   "metadata": {
    "execution": {
     "iopub.execute_input": "2025-05-28T09:11:13.572382Z",
     "iopub.status.busy": "2025-05-28T09:11:13.572060Z",
     "iopub.status.idle": "2025-05-28T09:11:13.577456Z",
     "shell.execute_reply": "2025-05-28T09:11:13.576597Z"
    },
    "papermill": {
     "duration": 0.014539,
     "end_time": "2025-05-28T09:11:13.578785",
     "exception": false,
     "start_time": "2025-05-28T09:11:13.564246",
     "status": "completed"
    },
    "tags": []
   },
   "outputs": [
    {
     "name": "stdout",
     "output_type": "stream",
     "text": [
      "/kaggle/input/playground-series-s5e5/sample_submission.csv\n",
      "/kaggle/input/playground-series-s5e5/train.csv\n",
      "/kaggle/input/playground-series-s5e5/test.csv\n"
     ]
    }
   ],
   "source": [
    "# Input data files are available in the read-only \"../input/\" directory\n",
    "# For example, running this (by clicking run or pressing Shift+Enter) will list all files under the input directory\n",
    "\n",
    "import os\n",
    "for dirname, _, filenames in os.walk('/kaggle/input'):\n",
    "    for filename in filenames:\n",
    "        print(os.path.join(dirname, filename))\n",
    "\n",
    "# You can write up to 20GB to the current directory (/kaggle/working/) that gets preserved as output when you create a version using \"Save & Run All\" \n",
    "# You can also write temporary files to /kaggle/temp/, but they won't be saved outside of the current session"
   ]
  },
  {
   "cell_type": "markdown",
   "id": "0d87c634",
   "metadata": {
    "papermill": {
     "duration": 0.007067,
     "end_time": "2025-05-28T09:11:13.593527",
     "exception": false,
     "start_time": "2025-05-28T09:11:13.586460",
     "status": "completed"
    },
    "tags": []
   },
   "source": [
    "# 2. Data Loading and Initial Exploration\n",
    "This section focuses on loading the training and test datasets and performing initial data inspections."
   ]
  },
  {
   "cell_type": "markdown",
   "id": "11e3b658",
   "metadata": {
    "papermill": {
     "duration": 0.006989,
     "end_time": "2025-05-28T09:11:13.607708",
     "exception": false,
     "start_time": "2025-05-28T09:11:13.600719",
     "status": "completed"
    },
    "tags": []
   },
   "source": [
    "## Loading Training Data\n",
    "Loads the train.csv file into a pandas DataFrame and displays the first 5 rows."
   ]
  },
  {
   "cell_type": "code",
   "execution_count": 3,
   "id": "2ff0d12e",
   "metadata": {
    "execution": {
     "iopub.execute_input": "2025-05-28T09:11:13.622717Z",
     "iopub.status.busy": "2025-05-28T09:11:13.622455Z",
     "iopub.status.idle": "2025-05-28T09:11:14.661832Z",
     "shell.execute_reply": "2025-05-28T09:11:14.661042Z"
    },
    "papermill": {
     "duration": 1.048254,
     "end_time": "2025-05-28T09:11:14.663046",
     "exception": false,
     "start_time": "2025-05-28T09:11:13.614792",
     "status": "completed"
    },
    "tags": []
   },
   "outputs": [
    {
     "data": {
      "text/html": [
       "<div>\n",
       "<style scoped>\n",
       "    .dataframe tbody tr th:only-of-type {\n",
       "        vertical-align: middle;\n",
       "    }\n",
       "\n",
       "    .dataframe tbody tr th {\n",
       "        vertical-align: top;\n",
       "    }\n",
       "\n",
       "    .dataframe thead th {\n",
       "        text-align: right;\n",
       "    }\n",
       "</style>\n",
       "<table border=\"1\" class=\"dataframe\">\n",
       "  <thead>\n",
       "    <tr style=\"text-align: right;\">\n",
       "      <th></th>\n",
       "      <th>id</th>\n",
       "      <th>Sex</th>\n",
       "      <th>Age</th>\n",
       "      <th>Height</th>\n",
       "      <th>Weight</th>\n",
       "      <th>Duration</th>\n",
       "      <th>Heart_Rate</th>\n",
       "      <th>Body_Temp</th>\n",
       "      <th>Calories</th>\n",
       "    </tr>\n",
       "  </thead>\n",
       "  <tbody>\n",
       "    <tr>\n",
       "      <th>0</th>\n",
       "      <td>0</td>\n",
       "      <td>male</td>\n",
       "      <td>36</td>\n",
       "      <td>189.0</td>\n",
       "      <td>82.0</td>\n",
       "      <td>26.0</td>\n",
       "      <td>101.0</td>\n",
       "      <td>41.0</td>\n",
       "      <td>150.0</td>\n",
       "    </tr>\n",
       "    <tr>\n",
       "      <th>1</th>\n",
       "      <td>1</td>\n",
       "      <td>female</td>\n",
       "      <td>64</td>\n",
       "      <td>163.0</td>\n",
       "      <td>60.0</td>\n",
       "      <td>8.0</td>\n",
       "      <td>85.0</td>\n",
       "      <td>39.7</td>\n",
       "      <td>34.0</td>\n",
       "    </tr>\n",
       "    <tr>\n",
       "      <th>2</th>\n",
       "      <td>2</td>\n",
       "      <td>female</td>\n",
       "      <td>51</td>\n",
       "      <td>161.0</td>\n",
       "      <td>64.0</td>\n",
       "      <td>7.0</td>\n",
       "      <td>84.0</td>\n",
       "      <td>39.8</td>\n",
       "      <td>29.0</td>\n",
       "    </tr>\n",
       "    <tr>\n",
       "      <th>3</th>\n",
       "      <td>3</td>\n",
       "      <td>male</td>\n",
       "      <td>20</td>\n",
       "      <td>192.0</td>\n",
       "      <td>90.0</td>\n",
       "      <td>25.0</td>\n",
       "      <td>105.0</td>\n",
       "      <td>40.7</td>\n",
       "      <td>140.0</td>\n",
       "    </tr>\n",
       "    <tr>\n",
       "      <th>4</th>\n",
       "      <td>4</td>\n",
       "      <td>female</td>\n",
       "      <td>38</td>\n",
       "      <td>166.0</td>\n",
       "      <td>61.0</td>\n",
       "      <td>25.0</td>\n",
       "      <td>102.0</td>\n",
       "      <td>40.6</td>\n",
       "      <td>146.0</td>\n",
       "    </tr>\n",
       "  </tbody>\n",
       "</table>\n",
       "</div>"
      ],
      "text/plain": [
       "   id     Sex  Age  Height  Weight  Duration  Heart_Rate  Body_Temp  Calories\n",
       "0   0    male   36   189.0    82.0      26.0       101.0       41.0     150.0\n",
       "1   1  female   64   163.0    60.0       8.0        85.0       39.7      34.0\n",
       "2   2  female   51   161.0    64.0       7.0        84.0       39.8      29.0\n",
       "3   3    male   20   192.0    90.0      25.0       105.0       40.7     140.0\n",
       "4   4  female   38   166.0    61.0      25.0       102.0       40.6     146.0"
      ]
     },
     "execution_count": 3,
     "metadata": {},
     "output_type": "execute_result"
    }
   ],
   "source": [
    "train = pd.read_csv('/kaggle/input/playground-series-s5e5/train.csv')\n",
    "train.head(5)"
   ]
  },
  {
   "cell_type": "markdown",
   "id": "c9d9ba48",
   "metadata": {
    "papermill": {
     "duration": 0.007118,
     "end_time": "2025-05-28T09:11:14.677899",
     "exception": false,
     "start_time": "2025-05-28T09:11:14.670781",
     "status": "completed"
    },
    "tags": []
   },
   "source": [
    "## Training Data Information\n",
    "Provides a summary of the training DataFrame, including column data types, non-null counts, and memory usage."
   ]
  },
  {
   "cell_type": "code",
   "execution_count": 4,
   "id": "6bf860a5",
   "metadata": {
    "execution": {
     "iopub.execute_input": "2025-05-28T09:11:14.692777Z",
     "iopub.status.busy": "2025-05-28T09:11:14.692519Z",
     "iopub.status.idle": "2025-05-28T09:11:14.766879Z",
     "shell.execute_reply": "2025-05-28T09:11:14.765991Z"
    },
    "papermill": {
     "duration": 0.083088,
     "end_time": "2025-05-28T09:11:14.768079",
     "exception": false,
     "start_time": "2025-05-28T09:11:14.684991",
     "status": "completed"
    },
    "tags": []
   },
   "outputs": [
    {
     "name": "stdout",
     "output_type": "stream",
     "text": [
      "<class 'pandas.core.frame.DataFrame'>\n",
      "RangeIndex: 750000 entries, 0 to 749999\n",
      "Data columns (total 9 columns):\n",
      " #   Column      Non-Null Count   Dtype  \n",
      "---  ------      --------------   -----  \n",
      " 0   id          750000 non-null  int64  \n",
      " 1   Sex         750000 non-null  object \n",
      " 2   Age         750000 non-null  int64  \n",
      " 3   Height      750000 non-null  float64\n",
      " 4   Weight      750000 non-null  float64\n",
      " 5   Duration    750000 non-null  float64\n",
      " 6   Heart_Rate  750000 non-null  float64\n",
      " 7   Body_Temp   750000 non-null  float64\n",
      " 8   Calories    750000 non-null  float64\n",
      "dtypes: float64(6), int64(2), object(1)\n",
      "memory usage: 51.5+ MB\n"
     ]
    }
   ],
   "source": [
    "train.info()"
   ]
  },
  {
   "cell_type": "markdown",
   "id": "a376d479",
   "metadata": {
    "papermill": {
     "duration": 0.006494,
     "end_time": "2025-05-28T09:11:14.781612",
     "exception": false,
     "start_time": "2025-05-28T09:11:14.775118",
     "status": "completed"
    },
    "tags": []
   },
   "source": [
    "## Checking for Missing Values in Training Data\n",
    "This loop iterates through each column in the training DataFrame and prints the percentage of missing values."
   ]
  },
  {
   "cell_type": "code",
   "execution_count": 5,
   "id": "77d12c9c",
   "metadata": {
    "execution": {
     "iopub.execute_input": "2025-05-28T09:11:14.795634Z",
     "iopub.status.busy": "2025-05-28T09:11:14.795406Z",
     "iopub.status.idle": "2025-05-28T09:11:14.845502Z",
     "shell.execute_reply": "2025-05-28T09:11:14.844735Z"
    },
    "papermill": {
     "duration": 0.058465,
     "end_time": "2025-05-28T09:11:14.846594",
     "exception": false,
     "start_time": "2025-05-28T09:11:14.788129",
     "status": "completed"
    },
    "tags": []
   },
   "outputs": [
    {
     "name": "stdout",
     "output_type": "stream",
     "text": [
      "id: 0.00%\n",
      "Sex: 0.00%\n",
      "Age: 0.00%\n",
      "Height: 0.00%\n",
      "Weight: 0.00%\n",
      "Duration: 0.00%\n",
      "Heart_Rate: 0.00%\n",
      "Body_Temp: 0.00%\n",
      "Calories: 0.00%\n"
     ]
    }
   ],
   "source": [
    "for col in train.columns:\n",
    "    missing_rate = train[col].isnull().mean() * 100\n",
    "    print(f\"{col}: {missing_rate:.2f}%\")"
   ]
  },
  {
   "cell_type": "markdown",
   "id": "d6c1b926",
   "metadata": {
    "papermill": {
     "duration": 0.006663,
     "end_time": "2025-05-28T09:11:14.860282",
     "exception": false,
     "start_time": "2025-05-28T09:11:14.853619",
     "status": "completed"
    },
    "tags": []
   },
   "source": [
    "## Loading Test Data\n",
    "Loads the test.csv file into a pandas DataFrame and displays the first 5 rows."
   ]
  },
  {
   "cell_type": "code",
   "execution_count": 6,
   "id": "6944490f",
   "metadata": {
    "execution": {
     "iopub.execute_input": "2025-05-28T09:11:14.874795Z",
     "iopub.status.busy": "2025-05-28T09:11:14.874566Z",
     "iopub.status.idle": "2025-05-28T09:11:15.178272Z",
     "shell.execute_reply": "2025-05-28T09:11:15.177567Z"
    },
    "papermill": {
     "duration": 0.312379,
     "end_time": "2025-05-28T09:11:15.179485",
     "exception": false,
     "start_time": "2025-05-28T09:11:14.867106",
     "status": "completed"
    },
    "tags": []
   },
   "outputs": [
    {
     "data": {
      "text/html": [
       "<div>\n",
       "<style scoped>\n",
       "    .dataframe tbody tr th:only-of-type {\n",
       "        vertical-align: middle;\n",
       "    }\n",
       "\n",
       "    .dataframe tbody tr th {\n",
       "        vertical-align: top;\n",
       "    }\n",
       "\n",
       "    .dataframe thead th {\n",
       "        text-align: right;\n",
       "    }\n",
       "</style>\n",
       "<table border=\"1\" class=\"dataframe\">\n",
       "  <thead>\n",
       "    <tr style=\"text-align: right;\">\n",
       "      <th></th>\n",
       "      <th>id</th>\n",
       "      <th>Sex</th>\n",
       "      <th>Age</th>\n",
       "      <th>Height</th>\n",
       "      <th>Weight</th>\n",
       "      <th>Duration</th>\n",
       "      <th>Heart_Rate</th>\n",
       "      <th>Body_Temp</th>\n",
       "    </tr>\n",
       "  </thead>\n",
       "  <tbody>\n",
       "    <tr>\n",
       "      <th>0</th>\n",
       "      <td>750000</td>\n",
       "      <td>male</td>\n",
       "      <td>45</td>\n",
       "      <td>177.0</td>\n",
       "      <td>81.0</td>\n",
       "      <td>7.0</td>\n",
       "      <td>87.0</td>\n",
       "      <td>39.8</td>\n",
       "    </tr>\n",
       "    <tr>\n",
       "      <th>1</th>\n",
       "      <td>750001</td>\n",
       "      <td>male</td>\n",
       "      <td>26</td>\n",
       "      <td>200.0</td>\n",
       "      <td>97.0</td>\n",
       "      <td>20.0</td>\n",
       "      <td>101.0</td>\n",
       "      <td>40.5</td>\n",
       "    </tr>\n",
       "    <tr>\n",
       "      <th>2</th>\n",
       "      <td>750002</td>\n",
       "      <td>female</td>\n",
       "      <td>29</td>\n",
       "      <td>188.0</td>\n",
       "      <td>85.0</td>\n",
       "      <td>16.0</td>\n",
       "      <td>102.0</td>\n",
       "      <td>40.4</td>\n",
       "    </tr>\n",
       "    <tr>\n",
       "      <th>3</th>\n",
       "      <td>750003</td>\n",
       "      <td>female</td>\n",
       "      <td>39</td>\n",
       "      <td>172.0</td>\n",
       "      <td>73.0</td>\n",
       "      <td>20.0</td>\n",
       "      <td>107.0</td>\n",
       "      <td>40.6</td>\n",
       "    </tr>\n",
       "    <tr>\n",
       "      <th>4</th>\n",
       "      <td>750004</td>\n",
       "      <td>female</td>\n",
       "      <td>30</td>\n",
       "      <td>173.0</td>\n",
       "      <td>67.0</td>\n",
       "      <td>16.0</td>\n",
       "      <td>94.0</td>\n",
       "      <td>40.5</td>\n",
       "    </tr>\n",
       "  </tbody>\n",
       "</table>\n",
       "</div>"
      ],
      "text/plain": [
       "       id     Sex  Age  Height  Weight  Duration  Heart_Rate  Body_Temp\n",
       "0  750000    male   45   177.0    81.0       7.0        87.0       39.8\n",
       "1  750001    male   26   200.0    97.0      20.0       101.0       40.5\n",
       "2  750002  female   29   188.0    85.0      16.0       102.0       40.4\n",
       "3  750003  female   39   172.0    73.0      20.0       107.0       40.6\n",
       "4  750004  female   30   173.0    67.0      16.0        94.0       40.5"
      ]
     },
     "execution_count": 6,
     "metadata": {},
     "output_type": "execute_result"
    }
   ],
   "source": [
    "test = pd.read_csv('/kaggle/input/playground-series-s5e5/test.csv')\n",
    "test.head()"
   ]
  },
  {
   "cell_type": "markdown",
   "id": "6f96990c",
   "metadata": {
    "papermill": {
     "duration": 0.007414,
     "end_time": "2025-05-28T09:11:15.195052",
     "exception": false,
     "start_time": "2025-05-28T09:11:15.187638",
     "status": "completed"
    },
    "tags": []
   },
   "source": [
    "## Test Data Information\n",
    "Provides a summary of the test DataFrame, including column data types, non-null counts, and memory usage."
   ]
  },
  {
   "cell_type": "code",
   "execution_count": 7,
   "id": "2b507722",
   "metadata": {
    "execution": {
     "iopub.execute_input": "2025-05-28T09:11:15.210944Z",
     "iopub.status.busy": "2025-05-28T09:11:15.210714Z",
     "iopub.status.idle": "2025-05-28T09:11:15.234020Z",
     "shell.execute_reply": "2025-05-28T09:11:15.233217Z"
    },
    "papermill": {
     "duration": 0.032632,
     "end_time": "2025-05-28T09:11:15.235092",
     "exception": false,
     "start_time": "2025-05-28T09:11:15.202460",
     "status": "completed"
    },
    "tags": []
   },
   "outputs": [
    {
     "name": "stdout",
     "output_type": "stream",
     "text": [
      "<class 'pandas.core.frame.DataFrame'>\n",
      "RangeIndex: 250000 entries, 0 to 249999\n",
      "Data columns (total 8 columns):\n",
      " #   Column      Non-Null Count   Dtype  \n",
      "---  ------      --------------   -----  \n",
      " 0   id          250000 non-null  int64  \n",
      " 1   Sex         250000 non-null  object \n",
      " 2   Age         250000 non-null  int64  \n",
      " 3   Height      250000 non-null  float64\n",
      " 4   Weight      250000 non-null  float64\n",
      " 5   Duration    250000 non-null  float64\n",
      " 6   Heart_Rate  250000 non-null  float64\n",
      " 7   Body_Temp   250000 non-null  float64\n",
      "dtypes: float64(5), int64(2), object(1)\n",
      "memory usage: 15.3+ MB\n"
     ]
    }
   ],
   "source": [
    "test.info()"
   ]
  },
  {
   "cell_type": "markdown",
   "id": "7742af4f",
   "metadata": {
    "papermill": {
     "duration": 0.006606,
     "end_time": "2025-05-28T09:11:15.248712",
     "exception": false,
     "start_time": "2025-05-28T09:11:15.242106",
     "status": "completed"
    },
    "tags": []
   },
   "source": [
    "## Training Data Descriptive Statistics\n",
    "Generates descriptive statistics of the numerical columns in the training DataFrame, such as count, mean, standard deviation, min, max, and quartiles."
   ]
  },
  {
   "cell_type": "code",
   "execution_count": 8,
   "id": "c149d402",
   "metadata": {
    "execution": {
     "iopub.execute_input": "2025-05-28T09:11:15.305917Z",
     "iopub.status.busy": "2025-05-28T09:11:15.305684Z",
     "iopub.status.idle": "2025-05-28T09:11:15.535723Z",
     "shell.execute_reply": "2025-05-28T09:11:15.535077Z"
    },
    "papermill": {
     "duration": 0.281501,
     "end_time": "2025-05-28T09:11:15.536877",
     "exception": false,
     "start_time": "2025-05-28T09:11:15.255376",
     "status": "completed"
    },
    "tags": []
   },
   "outputs": [
    {
     "data": {
      "text/html": [
       "<div>\n",
       "<style scoped>\n",
       "    .dataframe tbody tr th:only-of-type {\n",
       "        vertical-align: middle;\n",
       "    }\n",
       "\n",
       "    .dataframe tbody tr th {\n",
       "        vertical-align: top;\n",
       "    }\n",
       "\n",
       "    .dataframe thead th {\n",
       "        text-align: right;\n",
       "    }\n",
       "</style>\n",
       "<table border=\"1\" class=\"dataframe\">\n",
       "  <thead>\n",
       "    <tr style=\"text-align: right;\">\n",
       "      <th></th>\n",
       "      <th>id</th>\n",
       "      <th>Age</th>\n",
       "      <th>Height</th>\n",
       "      <th>Weight</th>\n",
       "      <th>Duration</th>\n",
       "      <th>Heart_Rate</th>\n",
       "      <th>Body_Temp</th>\n",
       "      <th>Calories</th>\n",
       "    </tr>\n",
       "  </thead>\n",
       "  <tbody>\n",
       "    <tr>\n",
       "      <th>count</th>\n",
       "      <td>750000.000000</td>\n",
       "      <td>750000.000000</td>\n",
       "      <td>750000.000000</td>\n",
       "      <td>750000.000000</td>\n",
       "      <td>750000.000000</td>\n",
       "      <td>750000.000000</td>\n",
       "      <td>750000.000000</td>\n",
       "      <td>750000.000000</td>\n",
       "    </tr>\n",
       "    <tr>\n",
       "      <th>mean</th>\n",
       "      <td>374999.500000</td>\n",
       "      <td>41.420404</td>\n",
       "      <td>174.697685</td>\n",
       "      <td>75.145668</td>\n",
       "      <td>15.421015</td>\n",
       "      <td>95.483995</td>\n",
       "      <td>40.036253</td>\n",
       "      <td>88.282781</td>\n",
       "    </tr>\n",
       "    <tr>\n",
       "      <th>std</th>\n",
       "      <td>216506.495284</td>\n",
       "      <td>15.175049</td>\n",
       "      <td>12.824496</td>\n",
       "      <td>13.982704</td>\n",
       "      <td>8.354095</td>\n",
       "      <td>9.449845</td>\n",
       "      <td>0.779875</td>\n",
       "      <td>62.395349</td>\n",
       "    </tr>\n",
       "    <tr>\n",
       "      <th>min</th>\n",
       "      <td>0.000000</td>\n",
       "      <td>20.000000</td>\n",
       "      <td>126.000000</td>\n",
       "      <td>36.000000</td>\n",
       "      <td>1.000000</td>\n",
       "      <td>67.000000</td>\n",
       "      <td>37.100000</td>\n",
       "      <td>1.000000</td>\n",
       "    </tr>\n",
       "    <tr>\n",
       "      <th>25%</th>\n",
       "      <td>187499.750000</td>\n",
       "      <td>28.000000</td>\n",
       "      <td>164.000000</td>\n",
       "      <td>63.000000</td>\n",
       "      <td>8.000000</td>\n",
       "      <td>88.000000</td>\n",
       "      <td>39.600000</td>\n",
       "      <td>34.000000</td>\n",
       "    </tr>\n",
       "    <tr>\n",
       "      <th>50%</th>\n",
       "      <td>374999.500000</td>\n",
       "      <td>40.000000</td>\n",
       "      <td>174.000000</td>\n",
       "      <td>74.000000</td>\n",
       "      <td>15.000000</td>\n",
       "      <td>95.000000</td>\n",
       "      <td>40.300000</td>\n",
       "      <td>77.000000</td>\n",
       "    </tr>\n",
       "    <tr>\n",
       "      <th>75%</th>\n",
       "      <td>562499.250000</td>\n",
       "      <td>52.000000</td>\n",
       "      <td>185.000000</td>\n",
       "      <td>87.000000</td>\n",
       "      <td>23.000000</td>\n",
       "      <td>103.000000</td>\n",
       "      <td>40.700000</td>\n",
       "      <td>136.000000</td>\n",
       "    </tr>\n",
       "    <tr>\n",
       "      <th>max</th>\n",
       "      <td>749999.000000</td>\n",
       "      <td>79.000000</td>\n",
       "      <td>222.000000</td>\n",
       "      <td>132.000000</td>\n",
       "      <td>30.000000</td>\n",
       "      <td>128.000000</td>\n",
       "      <td>41.500000</td>\n",
       "      <td>314.000000</td>\n",
       "    </tr>\n",
       "  </tbody>\n",
       "</table>\n",
       "</div>"
      ],
      "text/plain": [
       "                  id            Age         Height         Weight  \\\n",
       "count  750000.000000  750000.000000  750000.000000  750000.000000   \n",
       "mean   374999.500000      41.420404     174.697685      75.145668   \n",
       "std    216506.495284      15.175049      12.824496      13.982704   \n",
       "min         0.000000      20.000000     126.000000      36.000000   \n",
       "25%    187499.750000      28.000000     164.000000      63.000000   \n",
       "50%    374999.500000      40.000000     174.000000      74.000000   \n",
       "75%    562499.250000      52.000000     185.000000      87.000000   \n",
       "max    749999.000000      79.000000     222.000000     132.000000   \n",
       "\n",
       "            Duration     Heart_Rate      Body_Temp       Calories  \n",
       "count  750000.000000  750000.000000  750000.000000  750000.000000  \n",
       "mean       15.421015      95.483995      40.036253      88.282781  \n",
       "std         8.354095       9.449845       0.779875      62.395349  \n",
       "min         1.000000      67.000000      37.100000       1.000000  \n",
       "25%         8.000000      88.000000      39.600000      34.000000  \n",
       "50%        15.000000      95.000000      40.300000      77.000000  \n",
       "75%        23.000000     103.000000      40.700000     136.000000  \n",
       "max        30.000000     128.000000      41.500000     314.000000  "
      ]
     },
     "execution_count": 8,
     "metadata": {},
     "output_type": "execute_result"
    }
   ],
   "source": [
    "train.describe()"
   ]
  },
  {
   "cell_type": "markdown",
   "id": "a344269f",
   "metadata": {
    "papermill": {
     "duration": 0.007001,
     "end_time": "2025-05-28T09:11:15.551256",
     "exception": false,
     "start_time": "2025-05-28T09:11:15.544255",
     "status": "completed"
    },
    "tags": []
   },
   "source": [
    "# 3. Feature Engineering\n",
    "This section involves creating new features from the existing ones to potentially improve model performance."
   ]
  },
  {
   "cell_type": "markdown",
   "id": "902b5689",
   "metadata": {
    "papermill": {
     "duration": 0.007108,
     "end_time": "2025-05-28T09:11:15.565425",
     "exception": false,
     "start_time": "2025-05-28T09:11:15.558317",
     "status": "completed"
    },
    "tags": []
   },
   "source": [
    "## Encoding 'Sex' Column\n",
    "Converts the categorical 'Sex' column into a numerical format ('Sex_encoded') using Label Encoding, which is necessary for most machine learning models."
   ]
  },
  {
   "cell_type": "code",
   "execution_count": 9,
   "id": "bb1c6839",
   "metadata": {
    "execution": {
     "iopub.execute_input": "2025-05-28T09:11:15.580198Z",
     "iopub.status.busy": "2025-05-28T09:11:15.579983Z",
     "iopub.status.idle": "2025-05-28T09:11:16.949042Z",
     "shell.execute_reply": "2025-05-28T09:11:16.948265Z"
    },
    "papermill": {
     "duration": 1.377772,
     "end_time": "2025-05-28T09:11:16.950151",
     "exception": false,
     "start_time": "2025-05-28T09:11:15.572379",
     "status": "completed"
    },
    "tags": []
   },
   "outputs": [
    {
     "name": "stdout",
     "output_type": "stream",
     "text": [
      "      Sex  Sex_encoded\n",
      "0    male            1\n",
      "1  female            0\n",
      "2  female            0\n",
      "3    male            1\n",
      "4  female            0\n"
     ]
    }
   ],
   "source": [
    "from sklearn.preprocessing import LabelEncoder\n",
    "\n",
    "if 'Sex' in train.columns:\n",
    "    le = LabelEncoder()\n",
    "    train['Sex_encoded'] = le.fit_transform(train['Sex'])\n",
    "    print(train[['Sex', 'Sex_encoded']].head())\n",
    "else:\n",
    "    pass"
   ]
  },
  {
   "cell_type": "markdown",
   "id": "2ea7c7a0",
   "metadata": {
    "papermill": {
     "duration": 0.006961,
     "end_time": "2025-05-28T09:11:16.964577",
     "exception": false,
     "start_time": "2025-05-28T09:11:16.957616",
     "status": "completed"
    },
    "tags": []
   },
   "source": [
    "## Calculating BMI (Body Mass Index)\n",
    "Calculates the Body Mass Index (BMI) using the 'Weight' and 'Height' columns and adds it as a new column to the DataFrame."
   ]
  },
  {
   "cell_type": "code",
   "execution_count": 10,
   "id": "ea026e77",
   "metadata": {
    "execution": {
     "iopub.execute_input": "2025-05-28T09:11:16.979847Z",
     "iopub.status.busy": "2025-05-28T09:11:16.979447Z",
     "iopub.status.idle": "2025-05-28T09:11:17.006456Z",
     "shell.execute_reply": "2025-05-28T09:11:17.005807Z"
    },
    "papermill": {
     "duration": 0.036334,
     "end_time": "2025-05-28T09:11:17.007852",
     "exception": false,
     "start_time": "2025-05-28T09:11:16.971518",
     "status": "completed"
    },
    "tags": []
   },
   "outputs": [
    {
     "data": {
      "text/html": [
       "<div>\n",
       "<style scoped>\n",
       "    .dataframe tbody tr th:only-of-type {\n",
       "        vertical-align: middle;\n",
       "    }\n",
       "\n",
       "    .dataframe tbody tr th {\n",
       "        vertical-align: top;\n",
       "    }\n",
       "\n",
       "    .dataframe thead th {\n",
       "        text-align: right;\n",
       "    }\n",
       "</style>\n",
       "<table border=\"1\" class=\"dataframe\">\n",
       "  <thead>\n",
       "    <tr style=\"text-align: right;\">\n",
       "      <th></th>\n",
       "      <th>id</th>\n",
       "      <th>Sex</th>\n",
       "      <th>Age</th>\n",
       "      <th>Height</th>\n",
       "      <th>Weight</th>\n",
       "      <th>Duration</th>\n",
       "      <th>Heart_Rate</th>\n",
       "      <th>Body_Temp</th>\n",
       "      <th>Calories</th>\n",
       "      <th>Sex_encoded</th>\n",
       "      <th>BMI</th>\n",
       "    </tr>\n",
       "  </thead>\n",
       "  <tbody>\n",
       "    <tr>\n",
       "      <th>0</th>\n",
       "      <td>0</td>\n",
       "      <td>male</td>\n",
       "      <td>36</td>\n",
       "      <td>189.0</td>\n",
       "      <td>82.0</td>\n",
       "      <td>26.0</td>\n",
       "      <td>101.0</td>\n",
       "      <td>41.0</td>\n",
       "      <td>150.0</td>\n",
       "      <td>1</td>\n",
       "      <td>22.955684</td>\n",
       "    </tr>\n",
       "    <tr>\n",
       "      <th>1</th>\n",
       "      <td>1</td>\n",
       "      <td>female</td>\n",
       "      <td>64</td>\n",
       "      <td>163.0</td>\n",
       "      <td>60.0</td>\n",
       "      <td>8.0</td>\n",
       "      <td>85.0</td>\n",
       "      <td>39.7</td>\n",
       "      <td>34.0</td>\n",
       "      <td>0</td>\n",
       "      <td>22.582709</td>\n",
       "    </tr>\n",
       "    <tr>\n",
       "      <th>2</th>\n",
       "      <td>2</td>\n",
       "      <td>female</td>\n",
       "      <td>51</td>\n",
       "      <td>161.0</td>\n",
       "      <td>64.0</td>\n",
       "      <td>7.0</td>\n",
       "      <td>84.0</td>\n",
       "      <td>39.8</td>\n",
       "      <td>29.0</td>\n",
       "      <td>0</td>\n",
       "      <td>24.690405</td>\n",
       "    </tr>\n",
       "    <tr>\n",
       "      <th>3</th>\n",
       "      <td>3</td>\n",
       "      <td>male</td>\n",
       "      <td>20</td>\n",
       "      <td>192.0</td>\n",
       "      <td>90.0</td>\n",
       "      <td>25.0</td>\n",
       "      <td>105.0</td>\n",
       "      <td>40.7</td>\n",
       "      <td>140.0</td>\n",
       "      <td>1</td>\n",
       "      <td>24.414062</td>\n",
       "    </tr>\n",
       "    <tr>\n",
       "      <th>4</th>\n",
       "      <td>4</td>\n",
       "      <td>female</td>\n",
       "      <td>38</td>\n",
       "      <td>166.0</td>\n",
       "      <td>61.0</td>\n",
       "      <td>25.0</td>\n",
       "      <td>102.0</td>\n",
       "      <td>40.6</td>\n",
       "      <td>146.0</td>\n",
       "      <td>0</td>\n",
       "      <td>22.136740</td>\n",
       "    </tr>\n",
       "  </tbody>\n",
       "</table>\n",
       "</div>"
      ],
      "text/plain": [
       "   id     Sex  Age  Height  Weight  Duration  Heart_Rate  Body_Temp  Calories  \\\n",
       "0   0    male   36   189.0    82.0      26.0       101.0       41.0     150.0   \n",
       "1   1  female   64   163.0    60.0       8.0        85.0       39.7      34.0   \n",
       "2   2  female   51   161.0    64.0       7.0        84.0       39.8      29.0   \n",
       "3   3    male   20   192.0    90.0      25.0       105.0       40.7     140.0   \n",
       "4   4  female   38   166.0    61.0      25.0       102.0       40.6     146.0   \n",
       "\n",
       "   Sex_encoded        BMI  \n",
       "0            1  22.955684  \n",
       "1            0  22.582709  \n",
       "2            0  24.690405  \n",
       "3            1  24.414062  \n",
       "4            0  22.136740  "
      ]
     },
     "execution_count": 10,
     "metadata": {},
     "output_type": "execute_result"
    }
   ],
   "source": [
    "train['BMI'] = train['Weight'] / ((train['Height'] / 100) ** 2)\n",
    "train.head()"
   ]
  },
  {
   "cell_type": "markdown",
   "id": "cdfdc012",
   "metadata": {
    "papermill": {
     "duration": 0.006997,
     "end_time": "2025-05-28T09:11:17.022788",
     "exception": false,
     "start_time": "2025-05-28T09:11:17.015791",
     "status": "completed"
    },
    "tags": []
   },
   "source": [
    "## Creating Interaction Features\n",
    "Creates two new features:\n",
    "\n",
    "- `HRxDuration`: The product of 'Heart_Rate' and 'Duration'.\n",
    "- `Duration_Temp`: The ratio of 'Duration' to 'Body_Temp', handling potential division by zero by replacing zero 'Body_Temp' values with np.nan."
   ]
  },
  {
   "cell_type": "code",
   "execution_count": 11,
   "id": "ee38198b",
   "metadata": {
    "execution": {
     "iopub.execute_input": "2025-05-28T09:11:17.037900Z",
     "iopub.status.busy": "2025-05-28T09:11:17.037689Z",
     "iopub.status.idle": "2025-05-28T09:11:17.058434Z",
     "shell.execute_reply": "2025-05-28T09:11:17.057754Z"
    },
    "papermill": {
     "duration": 0.029773,
     "end_time": "2025-05-28T09:11:17.059706",
     "exception": false,
     "start_time": "2025-05-28T09:11:17.029933",
     "status": "completed"
    },
    "tags": []
   },
   "outputs": [
    {
     "data": {
      "text/html": [
       "<div>\n",
       "<style scoped>\n",
       "    .dataframe tbody tr th:only-of-type {\n",
       "        vertical-align: middle;\n",
       "    }\n",
       "\n",
       "    .dataframe tbody tr th {\n",
       "        vertical-align: top;\n",
       "    }\n",
       "\n",
       "    .dataframe thead th {\n",
       "        text-align: right;\n",
       "    }\n",
       "</style>\n",
       "<table border=\"1\" class=\"dataframe\">\n",
       "  <thead>\n",
       "    <tr style=\"text-align: right;\">\n",
       "      <th></th>\n",
       "      <th>id</th>\n",
       "      <th>Sex</th>\n",
       "      <th>Age</th>\n",
       "      <th>Height</th>\n",
       "      <th>Weight</th>\n",
       "      <th>Duration</th>\n",
       "      <th>Heart_Rate</th>\n",
       "      <th>Body_Temp</th>\n",
       "      <th>Calories</th>\n",
       "      <th>Sex_encoded</th>\n",
       "      <th>BMI</th>\n",
       "      <th>HRxDuration</th>\n",
       "      <th>Duration_Temp</th>\n",
       "    </tr>\n",
       "  </thead>\n",
       "  <tbody>\n",
       "    <tr>\n",
       "      <th>0</th>\n",
       "      <td>0</td>\n",
       "      <td>male</td>\n",
       "      <td>36</td>\n",
       "      <td>189.0</td>\n",
       "      <td>82.0</td>\n",
       "      <td>26.0</td>\n",
       "      <td>101.0</td>\n",
       "      <td>41.0</td>\n",
       "      <td>150.0</td>\n",
       "      <td>1</td>\n",
       "      <td>22.955684</td>\n",
       "      <td>2626.0</td>\n",
       "      <td>0.634146</td>\n",
       "    </tr>\n",
       "    <tr>\n",
       "      <th>1</th>\n",
       "      <td>1</td>\n",
       "      <td>female</td>\n",
       "      <td>64</td>\n",
       "      <td>163.0</td>\n",
       "      <td>60.0</td>\n",
       "      <td>8.0</td>\n",
       "      <td>85.0</td>\n",
       "      <td>39.7</td>\n",
       "      <td>34.0</td>\n",
       "      <td>0</td>\n",
       "      <td>22.582709</td>\n",
       "      <td>680.0</td>\n",
       "      <td>0.201511</td>\n",
       "    </tr>\n",
       "    <tr>\n",
       "      <th>2</th>\n",
       "      <td>2</td>\n",
       "      <td>female</td>\n",
       "      <td>51</td>\n",
       "      <td>161.0</td>\n",
       "      <td>64.0</td>\n",
       "      <td>7.0</td>\n",
       "      <td>84.0</td>\n",
       "      <td>39.8</td>\n",
       "      <td>29.0</td>\n",
       "      <td>0</td>\n",
       "      <td>24.690405</td>\n",
       "      <td>588.0</td>\n",
       "      <td>0.175879</td>\n",
       "    </tr>\n",
       "    <tr>\n",
       "      <th>3</th>\n",
       "      <td>3</td>\n",
       "      <td>male</td>\n",
       "      <td>20</td>\n",
       "      <td>192.0</td>\n",
       "      <td>90.0</td>\n",
       "      <td>25.0</td>\n",
       "      <td>105.0</td>\n",
       "      <td>40.7</td>\n",
       "      <td>140.0</td>\n",
       "      <td>1</td>\n",
       "      <td>24.414062</td>\n",
       "      <td>2625.0</td>\n",
       "      <td>0.614251</td>\n",
       "    </tr>\n",
       "    <tr>\n",
       "      <th>4</th>\n",
       "      <td>4</td>\n",
       "      <td>female</td>\n",
       "      <td>38</td>\n",
       "      <td>166.0</td>\n",
       "      <td>61.0</td>\n",
       "      <td>25.0</td>\n",
       "      <td>102.0</td>\n",
       "      <td>40.6</td>\n",
       "      <td>146.0</td>\n",
       "      <td>0</td>\n",
       "      <td>22.136740</td>\n",
       "      <td>2550.0</td>\n",
       "      <td>0.615764</td>\n",
       "    </tr>\n",
       "  </tbody>\n",
       "</table>\n",
       "</div>"
      ],
      "text/plain": [
       "   id     Sex  Age  Height  Weight  Duration  Heart_Rate  Body_Temp  Calories  \\\n",
       "0   0    male   36   189.0    82.0      26.0       101.0       41.0     150.0   \n",
       "1   1  female   64   163.0    60.0       8.0        85.0       39.7      34.0   \n",
       "2   2  female   51   161.0    64.0       7.0        84.0       39.8      29.0   \n",
       "3   3    male   20   192.0    90.0      25.0       105.0       40.7     140.0   \n",
       "4   4  female   38   166.0    61.0      25.0       102.0       40.6     146.0   \n",
       "\n",
       "   Sex_encoded        BMI  HRxDuration  Duration_Temp  \n",
       "0            1  22.955684       2626.0       0.634146  \n",
       "1            0  22.582709        680.0       0.201511  \n",
       "2            0  24.690405        588.0       0.175879  \n",
       "3            1  24.414062       2625.0       0.614251  \n",
       "4            0  22.136740       2550.0       0.615764  "
      ]
     },
     "execution_count": 11,
     "metadata": {},
     "output_type": "execute_result"
    }
   ],
   "source": [
    "import numpy as np\n",
    "\n",
    "train['HRxDuration'] = train['Heart_Rate'] * train['Duration']\n",
    "\n",
    "# Avoid division by zero if 'Body_Temp' contains zero values\n",
    "train['Duration_Temp'] = train['Duration'] / train['Body_Temp'].replace(0, np.nan)\n",
    "\n",
    "train.head()"
   ]
  },
  {
   "cell_type": "markdown",
   "id": "5c1948e9",
   "metadata": {
    "papermill": {
     "duration": 0.007848,
     "end_time": "2025-05-28T09:11:17.076180",
     "exception": false,
     "start_time": "2025-05-28T09:11:17.068332",
     "status": "completed"
    },
    "tags": []
   },
   "source": [
    "## Outlier Handling\n",
    "This code identifies and removes outliers for 'Height', 'Weight', 'Body_Temp', and 'Heart_Rate' columns based on the Interquartile Range (IQR) method."
   ]
  },
  {
   "cell_type": "code",
   "execution_count": 12,
   "id": "4d9adadc",
   "metadata": {
    "execution": {
     "iopub.execute_input": "2025-05-28T09:11:17.092405Z",
     "iopub.status.busy": "2025-05-28T09:11:17.092214Z",
     "iopub.status.idle": "2025-05-28T09:11:17.223478Z",
     "shell.execute_reply": "2025-05-28T09:11:17.222878Z"
    },
    "papermill": {
     "duration": 0.141031,
     "end_time": "2025-05-28T09:11:17.224937",
     "exception": false,
     "start_time": "2025-05-28T09:11:17.083906",
     "status": "completed"
    },
    "tags": []
   },
   "outputs": [],
   "source": [
    "cols = ['Height', 'Weight', 'Body_Temp', 'Heart_Rate']\n",
    "\n",
    "for col in cols:\n",
    "    Q1 = train[col].quantile(0.25)\n",
    "    Q3 = train[col].quantile(0.75)\n",
    "    train = train[(train[col] >= Q1) & (train[col] <= Q3)]"
   ]
  },
  {
   "cell_type": "markdown",
   "id": "3dfefcb0",
   "metadata": {
    "papermill": {
     "duration": 0.007362,
     "end_time": "2025-05-28T09:11:17.240634",
     "exception": false,
     "start_time": "2025-05-28T09:11:17.233272",
     "status": "completed"
    },
    "tags": []
   },
   "source": [
    "## Calculating BMR (Basal Metabolic Rate)\n",
    "Defines a function to calculate Basal Metabolic Rate (BMR) based on the Mifflin-St Jeor equation, considering sex, weight, height, and age. This function is then applied to create a new 'BMR' column."
   ]
  },
  {
   "cell_type": "code",
   "execution_count": 13,
   "id": "7380a1f3",
   "metadata": {
    "execution": {
     "iopub.execute_input": "2025-05-28T09:11:17.256664Z",
     "iopub.status.busy": "2025-05-28T09:11:17.256067Z",
     "iopub.status.idle": "2025-05-28T09:11:17.856612Z",
     "shell.execute_reply": "2025-05-28T09:11:17.855589Z"
    },
    "papermill": {
     "duration": 0.610468,
     "end_time": "2025-05-28T09:11:17.858566",
     "exception": false,
     "start_time": "2025-05-28T09:11:17.248098",
     "status": "completed"
    },
    "tags": []
   },
   "outputs": [
    {
     "name": "stdout",
     "output_type": "stream",
     "text": [
      "    Sex_encoded  Age  Height  Weight      BMR\n",
      "22            1   32   177.0    78.0  1807.65\n",
      "64            1   31   177.0    78.0  1814.41\n",
      "68            1   21   171.0    77.0  1838.26\n",
      "72            0   23   173.0    70.0  1536.71\n",
      "79            1   62   177.0    80.0  1632.35\n"
     ]
    }
   ],
   "source": [
    "def calculate_bmr(row):\n",
    "    if row['Sex_encoded'] == 1:  # Male (assuming 1 is male after encoding)\n",
    "        return 66.47 + (13.75 * row['Weight']) + (5 * row['Height']) - (6.76 * row['Age'])\n",
    "    else:  # Female (assuming 0 is female)\n",
    "        return 655.1 + (9.56 * row['Weight']) + (1.85 * row['Height']) - (4.68 * row['Age'])\n",
    "\n",
    "train['BMR'] = train.apply(calculate_bmr, axis=1)\n",
    "\n",
    "print(train[['Sex_encoded', 'Age', 'Height', 'Weight', 'BMR']].head())"
   ]
  },
  {
   "cell_type": "markdown",
   "id": "bc246d63",
   "metadata": {
    "papermill": {
     "duration": 0.007618,
     "end_time": "2025-05-28T09:11:17.876354",
     "exception": false,
     "start_time": "2025-05-28T09:11:17.868736",
     "status": "completed"
    },
    "tags": []
   },
   "source": [
    "## Classifying Obesity Status based on BMI\n",
    "Defines a function classify_obesity to categorize individuals into 'Obese', 'Overweight', or 'Normal' based on their BMI values. A new column Obesity_Status is then added to the DataFrame."
   ]
  },
  {
   "cell_type": "code",
   "execution_count": 14,
   "id": "084c1178",
   "metadata": {
    "execution": {
     "iopub.execute_input": "2025-05-28T09:11:17.892104Z",
     "iopub.status.busy": "2025-05-28T09:11:17.891626Z",
     "iopub.status.idle": "2025-05-28T09:11:17.910013Z",
     "shell.execute_reply": "2025-05-28T09:11:17.909286Z"
    },
    "papermill": {
     "duration": 0.027351,
     "end_time": "2025-05-28T09:11:17.911067",
     "exception": false,
     "start_time": "2025-05-28T09:11:17.883716",
     "status": "completed"
    },
    "tags": []
   },
   "outputs": [],
   "source": [
    "# Classify obesity by BMI\n",
    "def classify_obesity(bmi):\n",
    "    if bmi >= 30:\n",
    "        return 'Obese'\n",
    "    elif bmi >= 25:\n",
    "        return 'Overweight'\n",
    "    else:\n",
    "        return 'Normal'\n",
    "\n",
    "# Add column\n",
    "train['Obesity_Status'] = train['BMI'].apply(classify_obesity)"
   ]
  },
  {
   "cell_type": "markdown",
   "id": "ed84bd0a",
   "metadata": {
    "papermill": {
     "duration": 0.007226,
     "end_time": "2025-05-28T09:11:17.925837",
     "exception": false,
     "start_time": "2025-05-28T09:11:17.918611",
     "status": "completed"
    },
    "tags": []
   },
   "source": [
    "## Estimating Body Fat Percentage\n",
    "Defines a function to estimate body fat percentage using a formula that considers BMI, age, and sex. A new column Body_Fat_Percentage_Est is then added to the DataFrame."
   ]
  },
  {
   "cell_type": "code",
   "execution_count": 15,
   "id": "236280cb",
   "metadata": {
    "execution": {
     "iopub.execute_input": "2025-05-28T09:11:17.941299Z",
     "iopub.status.busy": "2025-05-28T09:11:17.941111Z",
     "iopub.status.idle": "2025-05-28T09:11:18.433101Z",
     "shell.execute_reply": "2025-05-28T09:11:18.432151Z"
    },
    "papermill": {
     "duration": 0.501256,
     "end_time": "2025-05-28T09:11:18.434439",
     "exception": false,
     "start_time": "2025-05-28T09:11:17.933183",
     "status": "completed"
    },
    "tags": []
   },
   "outputs": [
    {
     "name": "stdout",
     "output_type": "stream",
     "text": [
      "          BMI Obesity_Status  Body_Fat_Percentage_Est\n",
      "22  24.897060         Normal                21.036472\n",
      "64  24.897060         Normal                20.806472\n",
      "68  26.332889     Overweight                20.229467\n",
      "72  23.388687         Normal                27.956424\n",
      "79  25.535446     Overweight                28.702536\n"
     ]
    }
   ],
   "source": [
    "def estimate_body_fat_percentage(row):\n",
    "    age = row['Age']\n",
    "    bmi = row['BMI']\n",
    "    sex_encoded = row['Sex_encoded'] # 0 for Female, 1 for Male\n",
    "\n",
    "    # Calculate body fat percentage\n",
    "    if sex_encoded == 1: # Male\n",
    "        return (1.20 * bmi) + (0.23 * age) - 16.2\n",
    "    else: # Female\n",
    "        return (1.20 * bmi) + (0.23 * age) - 5.4\n",
    "\n",
    "train['Body_Fat_Percentage_Est'] = train.apply(estimate_body_fat_percentage, axis=1)\n",
    "\n",
    "print(train[['BMI', 'Obesity_Status', 'Body_Fat_Percentage_Est']].head())"
   ]
  },
  {
   "cell_type": "markdown",
   "id": "54c3bba5",
   "metadata": {
    "papermill": {
     "duration": 0.007514,
     "end_time": "2025-05-28T09:11:18.450273",
     "exception": false,
     "start_time": "2025-05-28T09:11:18.442759",
     "status": "completed"
    },
    "tags": []
   },
   "source": [
    "## Obesity Status Distribution\n",
    "Prints the value counts for the Obesity_Status column, showing the distribution of different obesity categories in the training data."
   ]
  },
  {
   "cell_type": "code",
   "execution_count": 16,
   "id": "38f659ea",
   "metadata": {
    "execution": {
     "iopub.execute_input": "2025-05-28T09:11:18.466093Z",
     "iopub.status.busy": "2025-05-28T09:11:18.465873Z",
     "iopub.status.idle": "2025-05-28T09:11:18.473566Z",
     "shell.execute_reply": "2025-05-28T09:11:18.472857Z"
    },
    "papermill": {
     "duration": 0.017024,
     "end_time": "2025-05-28T09:11:18.474782",
     "exception": false,
     "start_time": "2025-05-28T09:11:18.457758",
     "status": "completed"
    },
    "tags": []
   },
   "outputs": [
    {
     "name": "stdout",
     "output_type": "stream",
     "text": [
      "\n",
      "Obesity Status Distribution:\n",
      "Obesity_Status\n",
      "Normal        48753\n",
      "Overweight    15269\n",
      "Name: count, dtype: int64\n"
     ]
    }
   ],
   "source": [
    "print(\"\\nObesity Status Distribution:\")\n",
    "print(train['Obesity_Status'].value_counts())"
   ]
  },
  {
   "cell_type": "markdown",
   "id": "be6e67cd",
   "metadata": {
    "papermill": {
     "duration": 0.00745,
     "end_time": "2025-05-28T09:11:18.490029",
     "exception": false,
     "start_time": "2025-05-28T09:11:18.482579",
     "status": "completed"
    },
    "tags": []
   },
   "source": [
    "# 4. Correlation Analysis\n",
    "This section analyzes the correlation between numerical features and the target variable 'Calories'."
   ]
  },
  {
   "cell_type": "markdown",
   "id": "32977a60",
   "metadata": {
    "papermill": {
     "duration": 0.007382,
     "end_time": "2025-05-28T09:11:18.504906",
     "exception": false,
     "start_time": "2025-05-28T09:11:18.497524",
     "status": "completed"
    },
    "tags": []
   },
   "source": [
    "## Correlation with 'Calories'\n",
    "Calculates the correlation matrix for numerical columns in the training data and then specifically displays the correlation values with the 'Calories' column, sorted in descending order."
   ]
  },
  {
   "cell_type": "code",
   "execution_count": 17,
   "id": "d69533ef",
   "metadata": {
    "execution": {
     "iopub.execute_input": "2025-05-28T09:11:18.521148Z",
     "iopub.status.busy": "2025-05-28T09:11:18.520941Z",
     "iopub.status.idle": "2025-05-28T09:11:18.567795Z",
     "shell.execute_reply": "2025-05-28T09:11:18.566899Z"
    },
    "papermill": {
     "duration": 0.056643,
     "end_time": "2025-05-28T09:11:18.569056",
     "exception": false,
     "start_time": "2025-05-28T09:11:18.512413",
     "status": "completed"
    },
    "tags": []
   },
   "outputs": [
    {
     "name": "stdout",
     "output_type": "stream",
     "text": [
      "Calories                   1.00\n",
      "HRxDuration                0.94\n",
      "Duration                   0.92\n",
      "Duration_Temp              0.92\n",
      "Body_Temp                  0.73\n",
      "Heart_Rate                 0.61\n",
      "Age                        0.21\n",
      "Body_Fat_Percentage_Est    0.20\n",
      "id                         0.00\n",
      "BMI                       -0.01\n",
      "Height                    -0.06\n",
      "Weight                    -0.07\n",
      "Sex_encoded               -0.11\n",
      "BMR                       -0.19\n",
      "Name: Calories, dtype: float64\n"
     ]
    }
   ],
   "source": [
    "## Correlation\n",
    "# Only numerical columns\n",
    "\n",
    "import numpy as np\n",
    "df_numeric = train.select_dtypes(include=np.number)\n",
    "c = df_numeric.corr().round(2)['Calories']\n",
    "print(c.sort_values(ascending=False))"
   ]
  },
  {
   "cell_type": "code",
   "execution_count": 18,
   "id": "974e4e7c",
   "metadata": {
    "execution": {
     "iopub.execute_input": "2025-05-28T09:11:18.587363Z",
     "iopub.status.busy": "2025-05-28T09:11:18.587151Z",
     "iopub.status.idle": "2025-05-28T09:11:18.626600Z",
     "shell.execute_reply": "2025-05-28T09:11:18.625872Z"
    },
    "papermill": {
     "duration": 0.050155,
     "end_time": "2025-05-28T09:11:18.627773",
     "exception": false,
     "start_time": "2025-05-28T09:11:18.577618",
     "status": "completed"
    },
    "tags": []
   },
   "outputs": [
    {
     "name": "stdout",
     "output_type": "stream",
     "text": [
      "Calories                   1.00\n",
      "HRxDuration                0.94\n",
      "Duration                   0.92\n",
      "Duration_Temp              0.92\n",
      "Body_Temp                  0.73\n",
      "Heart_Rate                 0.61\n",
      "Age                        0.21\n",
      "Body_Fat_Percentage_Est    0.20\n",
      "id                         0.00\n",
      "BMI                       -0.01\n",
      "Height                    -0.06\n",
      "Weight                    -0.07\n",
      "Sex_encoded               -0.11\n",
      "BMR                       -0.19\n",
      "Name: Calories, dtype: float64\n"
     ]
    }
   ],
   "source": [
    "c = df_numeric.corr().round(2)['Calories']\n",
    "print(c.sort_values(ascending=False))"
   ]
  },
  {
   "cell_type": "markdown",
   "id": "7ceb8f22",
   "metadata": {
    "papermill": {
     "duration": 0.007428,
     "end_time": "2025-05-28T09:11:18.643609",
     "exception": false,
     "start_time": "2025-05-28T09:11:18.636181",
     "status": "completed"
    },
    "tags": []
   },
   "source": [
    "# 5. Model Training\n",
    "This section sets up and trains an XGBoost regression model to predict calorie expenditure."
   ]
  },
  {
   "cell_type": "markdown",
   "id": "5e4a79f8",
   "metadata": {
    "papermill": {
     "duration": 0.007512,
     "end_time": "2025-05-28T09:11:18.658714",
     "exception": false,
     "start_time": "2025-05-28T09:11:18.651202",
     "status": "completed"
    },
    "tags": []
   },
   "source": [
    "## Reloading Data and Feature Engineering Function\n",
    "Reloads the original training and test datasets to ensure a clean start for model training and re-defines the add_features function to apply all the previously engineered features."
   ]
  },
  {
   "cell_type": "code",
   "execution_count": 19,
   "id": "3fd299eb",
   "metadata": {
    "execution": {
     "iopub.execute_input": "2025-05-28T09:11:18.674817Z",
     "iopub.status.busy": "2025-05-28T09:11:18.674626Z",
     "iopub.status.idle": "2025-05-28T09:11:19.601878Z",
     "shell.execute_reply": "2025-05-28T09:11:19.601008Z"
    },
    "papermill": {
     "duration": 0.937166,
     "end_time": "2025-05-28T09:11:19.603391",
     "exception": false,
     "start_time": "2025-05-28T09:11:18.666225",
     "status": "completed"
    },
    "tags": []
   },
   "outputs": [],
   "source": [
    "import pandas as pd\n",
    "import numpy as np\n",
    "from xgboost import XGBRegressor\n",
    "from sklearn.model_selection import train_test_split, GridSearchCV\n",
    "from sklearn.metrics import mean_squared_log_error\n",
    "from sklearn.preprocessing import LabelEncoder\n",
    "\n",
    "# Reload data\n",
    "df = pd.read_csv('/kaggle/input/playground-series-s5e5/train.csv')  # Training data\n",
    "test_df = pd.read_csv('/kaggle/input/playground-series-s5e5/test.csv')  # Test data\n",
    "\n",
    "# Initialize LabelEncoder (initialized outside add_features function for consistency)\n",
    "le = LabelEncoder()\n",
    "\n",
    "# Feature Engineering\n",
    "def add_features(df):\n",
    "    df = df.copy()\n",
    "    df['Sex_encoded'] = le.fit_transform(df['Sex'])\n",
    "\n",
    "    df['BMI'] = df['Weight'] / ((df['Height'] / 100) ** 2)\n",
    "    df['HRxDuration'] = df['Heart_Rate'] * df['Duration']\n",
    "    # Handle cases where Body_Temp is 0 by replacing with the mean (more robust handling than np.nan)\n",
    "    df['Duration_Temp'] = df['Duration'] / df['Body_Temp'].replace(0, df['Body_Temp'].mean())\n",
    "\n",
    "    def calculate_bmr(row):\n",
    "        if row['Sex_encoded'] == 1:  # Male\n",
    "            return 66.47 + (13.75 * row['Weight']) + (5 * row['Height']) - (6.76 * row['Age'])\n",
    "        else:  # Female\n",
    "            return 655.1 + (9.56 * row['Weight']) + (1.85 * row['Height']) - (4.68 * row['Age'])\n",
    "    df['BMR'] = df.apply(calculate_bmr, axis=1)\n",
    "\n",
    "    def estimate_body_fat_percentage(row):\n",
    "        age = row['Age']\n",
    "        bmi = row['BMI']\n",
    "        sex_encoded = row['Sex_encoded'] # 0 for Female, 1 for Male\n",
    "        if sex_encoded == 1: # Male\n",
    "            return (1.20 * bmi) + (0.23 * age) - 16.2\n",
    "        else: # Female\n",
    "            return (1.20 * bmi) + (0.23 * age) - 5.4\n",
    "    df['Body_Fat_Percentage_Est'] = df.apply(estimate_body_fat_percentage, axis=1)\n",
    "\n",
    "    # Handle cases where Duration is 0 (to avoid division by zero)\n",
    "    df['HR_per_Minute'] = df['Heart_Rate'] / df['Duration'].replace(0, 1) # Replace 0 with 1 to prevent division by zero\n",
    "\n",
    "    # Add new features: interaction and polynomial features\n",
    "    df['Age_BMI_Interaction'] = df['Age'] * df['BMI']\n",
    "    df['HeartRate_Temp_Interaction'] = df['Heart_Rate'] * df['Body_Temp']\n",
    "    df['Duration_Squared'] = df['Duration'] ** 2\n",
    "    df['Age_Squared'] = df['Age'] ** 2\n",
    "\n",
    "    return df"
   ]
  },
  {
   "cell_type": "markdown",
   "id": "5063aec5",
   "metadata": {
    "papermill": {
     "duration": 0.007435,
     "end_time": "2025-05-28T09:11:19.619234",
     "exception": false,
     "start_time": "2025-05-28T09:11:19.611799",
     "status": "completed"
    },
    "tags": []
   },
   "source": [
    "## Applying Feature Engineering\n",
    "Applies the add_features function to both the training and test DataFrames."
   ]
  },
  {
   "cell_type": "code",
   "execution_count": 20,
   "id": "d1ed6e8a",
   "metadata": {
    "execution": {
     "iopub.execute_input": "2025-05-28T09:11:19.635157Z",
     "iopub.status.busy": "2025-05-28T09:11:19.634923Z",
     "iopub.status.idle": "2025-05-28T09:11:37.181892Z",
     "shell.execute_reply": "2025-05-28T09:11:37.181191Z"
    },
    "papermill": {
     "duration": 17.556408,
     "end_time": "2025-05-28T09:11:37.183223",
     "exception": false,
     "start_time": "2025-05-28T09:11:19.626815",
     "status": "completed"
    },
    "tags": []
   },
   "outputs": [],
   "source": [
    "# Apply derived features to training and test data\n",
    "df = add_features(df)\n",
    "test_df = add_features(test_df)"
   ]
  },
  {
   "cell_type": "markdown",
   "id": "f23d49dc",
   "metadata": {
    "papermill": {
     "duration": 0.007528,
     "end_time": "2025-05-28T09:11:37.199107",
     "exception": false,
     "start_time": "2025-05-28T09:11:37.191579",
     "status": "completed"
    },
    "tags": []
   },
   "source": [
    "## Defining Features and Target Variable\n",
    "Selects the features to be used for model training and applies a log transformation (`np.log1p`) to the target variable 'Calories' to handle skewed distributions and improve model performance."
   ]
  },
  {
   "cell_type": "code",
   "execution_count": 21,
   "id": "d77c6529",
   "metadata": {
    "execution": {
     "iopub.execute_input": "2025-05-28T09:11:37.215248Z",
     "iopub.status.busy": "2025-05-28T09:11:37.214857Z",
     "iopub.status.idle": "2025-05-28T09:11:37.278301Z",
     "shell.execute_reply": "2025-05-28T09:11:37.277660Z"
    },
    "papermill": {
     "duration": 0.072866,
     "end_time": "2025-05-28T09:11:37.279602",
     "exception": false,
     "start_time": "2025-05-28T09:11:37.206736",
     "status": "completed"
    },
    "tags": []
   },
   "outputs": [],
   "source": [
    "# Update list of features to use (including added features)\n",
    "selected_features = [\n",
    "    'HRxDuration',\n",
    "    'Duration_Temp',\n",
    "    'Duration',\n",
    "    'Body_Temp',\n",
    "    'Heart_Rate',\n",
    "    'Age',\n",
    "    'Body_Fat_Percentage_Est',\n",
    "    'HR_per_Minute',\n",
    "    'Age_BMI_Interaction',          # New feature\n",
    "    'HeartRate_Temp_Interaction',   # New feature\n",
    "    'Duration_Squared',             # New feature\n",
    "    'Age_Squared',                  # New feature\n",
    "    'Weight',                       # Added Weight\n",
    "    'Height',                       # Added Height\n",
    "    'BMI',                          # Added BMI\n",
    "    'BMR',                          # Added BMR\n",
    "    'Sex_encoded'                   # Added Sex_encoded\n",
    "]\n",
    "\n",
    "# Log transform the target variable\n",
    "X = df[selected_features]\n",
    "y = np.log1p(df['Calories'])"
   ]
  },
  {
   "cell_type": "markdown",
   "id": "56e7e66d",
   "metadata": {
    "papermill": {
     "duration": 0.007668,
     "end_time": "2025-05-28T09:11:37.295629",
     "exception": false,
     "start_time": "2025-05-28T09:11:37.287961",
     "status": "completed"
    },
    "tags": []
   },
   "source": [
    "## Data Splitting\n",
    "Splits the prepared data into training and validation sets for model training and evaluation."
   ]
  },
  {
   "cell_type": "code",
   "execution_count": 22,
   "id": "2126e224",
   "metadata": {
    "execution": {
     "iopub.execute_input": "2025-05-28T09:11:37.312614Z",
     "iopub.status.busy": "2025-05-28T09:11:37.312126Z",
     "iopub.status.idle": "2025-05-28T09:11:37.502043Z",
     "shell.execute_reply": "2025-05-28T09:11:37.501423Z"
    },
    "papermill": {
     "duration": 0.199876,
     "end_time": "2025-05-28T09:11:37.503323",
     "exception": false,
     "start_time": "2025-05-28T09:11:37.303447",
     "status": "completed"
    },
    "tags": []
   },
   "outputs": [],
   "source": [
    "# Data splitting\n",
    "X_train, X_val, y_train, y_val = train_test_split(X, y, test_size=0.2, random_state=42)"
   ]
  },
  {
   "cell_type": "markdown",
   "id": "b4920c4d",
   "metadata": {
    "papermill": {
     "duration": 0.007448,
     "end_time": "2025-05-28T09:11:37.519189",
     "exception": false,
     "start_time": "2025-05-28T09:11:37.511741",
     "status": "completed"
    },
    "tags": []
   },
   "source": [
    "## XGBoost Model Definition and Training\n",
    "Defines an XGBoost Regressor model with optimized hyperparameters and trains it using the training data, with a validation set for early stopping."
   ]
  },
  {
   "cell_type": "code",
   "execution_count": 23,
   "id": "b23a30c1",
   "metadata": {
    "execution": {
     "iopub.execute_input": "2025-05-28T09:11:37.535515Z",
     "iopub.status.busy": "2025-05-28T09:11:37.535047Z",
     "iopub.status.idle": "2025-05-28T09:12:10.042590Z",
     "shell.execute_reply": "2025-05-28T09:12:10.041635Z"
    },
    "papermill": {
     "duration": 32.518452,
     "end_time": "2025-05-28T09:12:10.045234",
     "exception": false,
     "start_time": "2025-05-28T09:11:37.526782",
     "status": "completed"
    },
    "tags": []
   },
   "outputs": [
    {
     "name": "stdout",
     "output_type": "stream",
     "text": [
      "Starting model training\n",
      "[0]\tvalidation_0-rmsle:0.21009\n",
      "[100]\tvalidation_0-rmsle:0.02325\n",
      "[200]\tvalidation_0-rmsle:0.01771\n",
      "[300]\tvalidation_0-rmsle:0.01748\n",
      "[400]\tvalidation_0-rmsle:0.01744\n",
      "[500]\tvalidation_0-rmsle:0.01744\n",
      "[600]\tvalidation_0-rmsle:0.01743\n",
      "[700]\tvalidation_0-rmsle:0.01743\n",
      "[800]\tvalidation_0-rmsle:0.01743\n",
      "[895]\tvalidation_0-rmsle:0.01743\n",
      "Model training completed\n"
     ]
    }
   ],
   "source": [
    "# Define and train XGBoost model (attempting hyperparameter tuning)\n",
    "base_score = y_train.mean()\n",
    "\n",
    "model = XGBRegressor(\n",
    "    n_estimators=2000,          # Increased n_estimators\n",
    "    learning_rate=0.03,         # Decreased learning_rate\n",
    "    max_depth=6,                # Adjusted max_depth\n",
    "    subsample=0.7,              # Adjusted subsample\n",
    "    colsample_bytree=0.7,       # Adjusted colsample_bytree\n",
    "    gamma=0.1,                  # Added gamma\n",
    "    reg_alpha=0.005,            # Added L1 regularization\n",
    "    reg_lambda=0.8,             # Added L2 regularization\n",
    "    random_state=42,\n",
    "    early_stopping_rounds=100,  # Increased early_stopping_rounds\n",
    "    eval_metric='rmsle',\n",
    "    base_score=base_score,\n",
    "    n_jobs=-1                   # Use all cores\n",
    ")\n",
    "\n",
    "print(\"Starting model training\")\n",
    "model.fit(X_train, y_train, eval_set=[(X_val, y_val)], verbose=100)\n",
    "print(\"Model training completed\")"
   ]
  },
  {
   "cell_type": "markdown",
   "id": "ffa503da",
   "metadata": {
    "papermill": {
     "duration": 0.007995,
     "end_time": "2025-05-28T09:12:10.063094",
     "exception": false,
     "start_time": "2025-05-28T09:12:10.055099",
     "status": "completed"
    },
    "tags": []
   },
   "source": [
    "## Validation Performance Evaluation\n",
    "Evaluates the model's performance on the validation set using RMSLE (Root Mean Squared Log Error). The predictions are transformed back from log scale to original scale for evaluation."
   ]
  },
  {
   "cell_type": "code",
   "execution_count": 24,
   "id": "3d1a5b03",
   "metadata": {
    "execution": {
     "iopub.execute_input": "2025-05-28T09:12:10.080285Z",
     "iopub.status.busy": "2025-05-28T09:12:10.080062Z",
     "iopub.status.idle": "2025-05-28T09:12:10.644672Z",
     "shell.execute_reply": "2025-05-28T09:12:10.643763Z"
    },
    "papermill": {
     "duration": 0.574723,
     "end_time": "2025-05-28T09:12:10.645960",
     "exception": false,
     "start_time": "2025-05-28T09:12:10.071237",
     "status": "completed"
    },
    "tags": []
   },
   "outputs": [
    {
     "name": "stdout",
     "output_type": "stream",
     "text": [
      "Validation RMSLE: 0.0605\n"
     ]
    }
   ],
   "source": [
    "# Evaluate validation performance\n",
    "val_preds_log = model.predict(X_val)\n",
    "val_preds = np.expm1(val_preds_log) # Transform back from log scale\n",
    "val_y = np.expm1(y_val) # Transform back from log scale\n",
    "rmsle = np.sqrt(mean_squared_log_error(val_y, val_preds))\n",
    "print(f\"Validation RMSLE: {rmsle:.4f}\")"
   ]
  },
  {
   "cell_type": "code",
   "execution_count": 25,
   "id": "6097d4a4",
   "metadata": {
    "execution": {
     "iopub.execute_input": "2025-05-28T09:12:10.664008Z",
     "iopub.status.busy": "2025-05-28T09:12:10.663814Z",
     "iopub.status.idle": "2025-05-28T09:23:26.256259Z",
     "shell.execute_reply": "2025-05-28T09:23:26.255348Z"
    },
    "papermill": {
     "duration": 675.602908,
     "end_time": "2025-05-28T09:23:26.257648",
     "exception": false,
     "start_time": "2025-05-28T09:12:10.654740",
     "status": "completed"
    },
    "tags": []
   },
   "outputs": [
    {
     "name": "stdout",
     "output_type": "stream",
     "text": [
      "Fold 1 RMSLE: 0.0606\n",
      "Fold 2 RMSLE: 0.0609\n",
      "Fold 3 RMSLE: 0.0603\n",
      "Fold 4 RMSLE: 0.0605\n",
      "Fold 5 RMSLE: 0.0608\n",
      "\n",
      "Average CV RMSLE: 0.0606\n",
      "   Predicted_Calories\n",
      "0           27.537884\n",
      "1          108.807392\n",
      "2           87.686132\n",
      "3          126.306585\n",
      "4           75.544891\n"
     ]
    }
   ],
   "source": [
    "from sklearn.model_selection import KFold\n",
    "from sklearn.metrics import mean_squared_log_error\n",
    "\n",
    "# 추가 파생변수 생성 함수\n",
    "def add_advanced_features(df):\n",
    "    df = df.copy()\n",
    "    # 로그, 제곱근, 역수, 다항식, 상호작용\n",
    "    for col in ['BMI', 'Duration', 'Heart_Rate', 'Body_Temp', 'Age']:\n",
    "        df[f'{col}_log'] = np.log1p(df[col])\n",
    "        df[f'{col}_sqrt'] = np.sqrt(df[col])\n",
    "        df[f'{col}_inv'] = 1 / (df[col] + 1e-3)\n",
    "        df[f'{col}_squared'] = df[col] ** 2\n",
    "    # 상호작용\n",
    "    df['BMI_Age'] = df['BMI'] * df['Age']\n",
    "    df['BMI_HeartRate'] = df['BMI'] * df['Heart_Rate']\n",
    "    df['Duration_HeartRate'] = df['Duration'] * df['Heart_Rate']\n",
    "    df['Temp_HeartRate'] = df['Body_Temp'] * df['Heart_Rate']\n",
    "    return df\n",
    "\n",
    "df = add_advanced_features(df)\n",
    "test_df = add_advanced_features(test_df)\n",
    "\n",
    "# feature 목록 확장\n",
    "enhanced_features = selected_features + [\n",
    "    f'{col}_{suffix}'\n",
    "    for col in ['BMI', 'Duration', 'Heart_Rate', 'Body_Temp', 'Age']\n",
    "    for suffix in ['log', 'sqrt', 'inv', 'squared']\n",
    "] + [\n",
    "    'BMI_Age', 'BMI_HeartRate', 'Duration_HeartRate', 'Temp_HeartRate'\n",
    "]\n",
    "\n",
    "X = df[enhanced_features]\n",
    "y = np.log1p(df['Calories'])\n",
    "X_test_pred = test_df[enhanced_features]\n",
    "\n",
    "# KFold Cross-Validation 및 XGBoost 튜닝\n",
    "kf = KFold(n_splits=5, shuffle=True, random_state=42)\n",
    "val_scores = []\n",
    "models = []\n",
    "for fold, (train_idx, val_idx) in enumerate(kf.split(X)):\n",
    "    X_train, X_val = X.iloc[train_idx], X.iloc[val_idx]\n",
    "    y_train, y_val = y.iloc[train_idx], y.iloc[val_idx]\n",
    "    model = XGBRegressor(\n",
    "        n_estimators=3000,\n",
    "        learning_rate=0.02,\n",
    "        max_depth=7,\n",
    "        subsample=0.8,\n",
    "        colsample_bytree=0.8,\n",
    "        gamma=0.2,\n",
    "        reg_alpha=0.01,\n",
    "        reg_lambda=1.0,\n",
    "        random_state=fold,\n",
    "        early_stopping_rounds=200,\n",
    "        eval_metric='rmsle',\n",
    "        n_jobs=-1\n",
    "    )\n",
    "    model.fit(X_train, y_train, eval_set=[(X_val, y_val)], verbose=0)\n",
    "    val_pred = np.expm1(model.predict(X_val))\n",
    "    val_true = np.expm1(y_val)\n",
    "    rmsle = np.sqrt(mean_squared_log_error(val_true, val_pred))\n",
    "    print(f\"Fold {fold+1} RMSLE: {rmsle:.4f}\")\n",
    "    val_scores.append(rmsle)\n",
    "    models.append(model)\n",
    "print(f\"\\nAverage CV RMSLE: {np.mean(val_scores):.4f}\")\n",
    "\n",
    "# 앙상블 예측\n",
    "preds = np.zeros(X_test_pred.shape[0])\n",
    "for model in models:\n",
    "    preds += np.expm1(model.predict(X_test_pred)) / len(models)\n",
    "test_df['Predicted_Calories'] = preds\n",
    "print(test_df[['Predicted_Calories']].head())"
   ]
  },
  {
   "cell_type": "code",
   "execution_count": 26,
   "id": "afce07c1",
   "metadata": {
    "execution": {
     "iopub.execute_input": "2025-05-28T09:23:26.277205Z",
     "iopub.status.busy": "2025-05-28T09:23:26.276968Z",
     "iopub.status.idle": "2025-05-28T09:23:27.345655Z",
     "shell.execute_reply": "2025-05-28T09:23:27.344840Z"
    },
    "papermill": {
     "duration": 1.079904,
     "end_time": "2025-05-28T09:23:27.346920",
     "exception": false,
     "start_time": "2025-05-28T09:23:26.267016",
     "status": "completed"
    },
    "tags": []
   },
   "outputs": [
    {
     "name": "stdout",
     "output_type": "stream",
     "text": [
      "Validation RMSLE: 0.0608\n"
     ]
    }
   ],
   "source": [
    "# Evaluate validation performance\n",
    "val_preds_log = model.predict(X_val)\n",
    "val_preds = np.expm1(val_preds_log) # Transform back from log scale\n",
    "val_y = np.expm1(y_val) # Transform back from log scale\n",
    "rmsle = np.sqrt(mean_squared_log_error(val_y, val_preds))\n",
    "print(f\"Validation RMSLE: {rmsle:.4f}\")"
   ]
  },
  {
   "cell_type": "markdown",
   "id": "90d0e8e3",
   "metadata": {
    "papermill": {
     "duration": 0.008185,
     "end_time": "2025-05-28T09:23:27.366684",
     "exception": false,
     "start_time": "2025-05-28T09:23:27.358499",
     "status": "completed"
    },
    "tags": []
   },
   "source": [
    "## Training Data Performance Evaluation\n",
    "Evaluates the model's performance on the training data to check for overfitting."
   ]
  },
  {
   "cell_type": "code",
   "execution_count": 27,
   "id": "a5ac0fa6",
   "metadata": {
    "execution": {
     "iopub.execute_input": "2025-05-28T09:23:27.383902Z",
     "iopub.status.busy": "2025-05-28T09:23:27.383699Z",
     "iopub.status.idle": "2025-05-28T09:23:31.490185Z",
     "shell.execute_reply": "2025-05-28T09:23:31.489290Z"
    },
    "papermill": {
     "duration": 4.11673,
     "end_time": "2025-05-28T09:23:31.491588",
     "exception": false,
     "start_time": "2025-05-28T09:23:27.374858",
     "status": "completed"
    },
    "tags": []
   },
   "outputs": [
    {
     "name": "stdout",
     "output_type": "stream",
     "text": [
      "Training RMSLE: 0.0578\n"
     ]
    }
   ],
   "source": [
    "# Evaluate training data performance (train_score)\n",
    "train_preds_log = model.predict(X_train)\n",
    "train_preds = np.expm1(train_preds_log)\n",
    "train_y = np.expm1(y_train)\n",
    "train_rmsle = np.sqrt(mean_squared_log_error(train_y, train_preds))\n",
    "print(f\"Training RMSLE: {train_rmsle:.4f}\")"
   ]
  },
  {
   "cell_type": "markdown",
   "id": "b1620242",
   "metadata": {
    "papermill": {
     "duration": 0.008897,
     "end_time": "2025-05-28T09:23:31.509912",
     "exception": false,
     "start_time": "2025-05-28T09:23:31.501015",
     "status": "completed"
    },
    "tags": []
   },
   "source": [
    "## Learning Curve Visualization\n",
    "Plots the training and validation RMSLE scores over epochs to visualize the model's learning progress and identify potential overfitting."
   ]
  },
  {
   "cell_type": "code",
   "execution_count": 28,
   "id": "d689fd01",
   "metadata": {
    "execution": {
     "iopub.execute_input": "2025-05-28T09:23:31.528605Z",
     "iopub.status.busy": "2025-05-28T09:23:31.528148Z",
     "iopub.status.idle": "2025-05-28T09:23:31.854730Z",
     "shell.execute_reply": "2025-05-28T09:23:31.854068Z"
    },
    "papermill": {
     "duration": 0.337578,
     "end_time": "2025-05-28T09:23:31.855971",
     "exception": false,
     "start_time": "2025-05-28T09:23:31.518393",
     "status": "completed"
    },
    "tags": []
   },
   "outputs": [
    {
     "data": {
      "image/png": "[encoded data removed]",
      "text/plain": [
       "<Figure size 1000x600 with 1 Axes>"
      ]
     },
     "metadata": {},
     "output_type": "display_data"
    }
   ],
   "source": [
    "import matplotlib.pyplot as plt\n",
    "\n",
    "plt.figure(figsize=(10, 6))\n",
    "# Training loss (train_score) is model.evals_result()['validation_0']['rmsle']\n",
    "# Validation loss (test_score) is model.evals_result()['validation_1']['rmsle']\n",
    "plt.plot(model.evals_result()['validation_0']['rmsle'], label='Train RMSLE') # Check model.evals_result()\n",
    "plt.title('Model Learning Curve (RMSLE)')\n",
    "plt.xlabel('Epochs')\n",
    "plt.ylabel('RMSLE')\n",
    "plt.legend()\n",
    "plt.grid(True)\n",
    "plt.show()"
   ]
  },
  {
   "cell_type": "markdown",
   "id": "e1856d6c",
   "metadata": {
    "papermill": {
     "duration": 0.008849,
     "end_time": "2025-05-28T09:23:31.874363",
     "exception": false,
     "start_time": "2025-05-28T09:23:31.865514",
     "status": "completed"
    },
    "tags": []
   },
   "source": [
    "## Add Predictions"
   ]
  },
  {
   "cell_type": "code",
   "execution_count": 29,
   "id": "56ea298f",
   "metadata": {
    "execution": {
     "iopub.execute_input": "2025-05-28T09:23:31.892999Z",
     "iopub.status.busy": "2025-05-28T09:23:31.892799Z",
     "iopub.status.idle": "2025-05-28T09:23:33.714106Z",
     "shell.execute_reply": "2025-05-28T09:23:33.712660Z"
    },
    "papermill": {
     "duration": 1.832332,
     "end_time": "2025-05-28T09:23:33.715508",
     "exception": false,
     "start_time": "2025-05-28T09:23:31.883176",
     "status": "completed"
    },
    "tags": []
   },
   "outputs": [
    {
     "name": "stdout",
     "output_type": "stream",
     "text": [
      "df_pred with 'Predicted_Calories' column:\n",
      "       id     Sex  Age  Height  Weight  Duration  Heart_Rate  Body_Temp  \\\n",
      "0  750000    male   45   177.0    81.0       7.0        87.0       39.8   \n",
      "1  750001    male   26   200.0    97.0      20.0       101.0       40.5   \n",
      "2  750002  female   29   188.0    85.0      16.0       102.0       40.4   \n",
      "3  750003  female   39   172.0    73.0      20.0       107.0       40.6   \n",
      "4  750004  female   30   173.0    67.0      16.0        94.0       40.5   \n",
      "\n",
      "   Sex_encoded        BMI  ...  Body_Temp_squared   Age_log  Age_sqrt  \\\n",
      "0            1  25.854639  ...            1584.04  3.828641  6.708204   \n",
      "1            1  24.250000  ...            1640.25  3.295837  5.099020   \n",
      "2            0  24.049344  ...            1632.16  3.401197  5.385165   \n",
      "3            0  24.675500  ...            1648.36  3.688879  6.244998   \n",
      "4            0  22.386314  ...            1640.25  3.433987  5.477226   \n",
      "\n",
      "    Age_inv  Age_squared      BMI_Age  BMI_HeartRate  Duration_HeartRate  \\\n",
      "0  0.022222         2025  1163.458776    2249.353634               609.0   \n",
      "1  0.038460          676   630.500000    2449.250000              2020.0   \n",
      "2  0.034482          841   697.430964    2453.033047              1632.0   \n",
      "3  0.025640         1521   962.344511    2640.278529              2140.0   \n",
      "4  0.033332          900   671.589428    2104.313542              1504.0   \n",
      "\n",
      "   Temp_HeartRate  Predicted_Calories  \n",
      "0          3462.6           27.517773  \n",
      "1          4090.5          108.543159  \n",
      "2          4120.8           87.625732  \n",
      "3          4344.2          126.229202  \n",
      "4          3807.0           75.246353  \n",
      "\n",
      "[5 rows x 44 columns]\n"
     ]
    }
   ],
   "source": [
    "df_pred = test_df.copy()\n",
    "X_test_pred = df_pred[enhanced_features]\n",
    "\n",
    "test_preds_log = model.predict(X_test_pred)\n",
    "\n",
    "pred = np.expm1(test_preds_log)\n",
    "\n",
    "df_pred['Predicted_Calories'] = pred\n",
    "\n",
    "print(\"df_pred with 'Predicted_Calories' column:\")\n",
    "print(df_pred.head())"
   ]
  },
  {
   "cell_type": "markdown",
   "id": "aeef58aa",
   "metadata": {
    "papermill": {
     "duration": 0.008918,
     "end_time": "2025-05-28T09:23:33.734651",
     "exception": false,
     "start_time": "2025-05-28T09:23:33.725733",
     "status": "completed"
    },
    "tags": []
   },
   "source": [
    "# 6. Submission\n",
    "This section is for generating the final submission file in the format required by the competition."
   ]
  },
  {
   "cell_type": "markdown",
   "id": "0ba5a5b6",
   "metadata": {
    "papermill": {
     "duration": 0.008859,
     "end_time": "2025-05-28T09:23:33.752419",
     "exception": false,
     "start_time": "2025-05-28T09:23:33.743560",
     "status": "completed"
    },
    "tags": []
   },
   "source": [
    "## Generating and Saving Submission File\n",
    "This code block creates a pandas DataFrame with 'id' and 'Calories' columns, where 'id' is a range starting from 750000 and 'Calories' are the predicted values from df_pred['Predicted_Calories']. Finally, it saves this DataFrame to a CSV file named submission.csv without the index."
   ]
  },
  {
   "cell_type": "code",
   "execution_count": 30,
   "id": "e54209b2",
   "metadata": {
    "execution": {
     "iopub.execute_input": "2025-05-28T09:23:33.771388Z",
     "iopub.status.busy": "2025-05-28T09:23:33.770907Z",
     "iopub.status.idle": "2025-05-28T09:23:34.110457Z",
     "shell.execute_reply": "2025-05-28T09:23:34.109763Z"
    },
    "papermill": {
     "duration": 0.350284,
     "end_time": "2025-05-28T09:23:34.111565",
     "exception": false,
     "start_time": "2025-05-28T09:23:33.761281",
     "status": "completed"
    },
    "tags": []
   },
   "outputs": [
    {
     "name": "stdout",
     "output_type": "stream",
     "text": [
      "       id    Calories\n",
      "0  750000   27.517773\n",
      "1  750001  108.543159\n",
      "2  750002   87.625732\n",
      "3  750003  126.229202\n",
      "4  750004   75.246353\n",
      "Submission file 'submission.csv' created successfully.\n"
     ]
    }
   ],
   "source": [
    "id = range(750000, 1000000)\n",
    "\n",
    "df_submit = pd.DataFrame({\n",
    "    'id': id,\n",
    "    'Calories': df_pred['Predicted_Calories']\n",
    "})\n",
    "\n",
    "print(df_submit.head())\n",
    "\n",
    "df_submit.to_csv('submission.csv', index=False)\n",
    "\n",
    "print(\"Submission file 'submission.csv' created successfully.\")"
   ]
  }
 ],
 "metadata": {
  "kaggle": {
   "accelerator": "nvidiaTeslaT4",
   "dataSources": [
    {
     "databundleVersionId": 11893428,
     "sourceId": 91716,
     "sourceType": "competition"
    }
   ],
   "dockerImageVersionId": 31040,
   "isGpuEnabled": true,
   "isInternetEnabled": true,
   "language": "python",
   "sourceType": "notebook"
  },
  "kernelspec": {
   "display_name": "Python 3",
   "language": "python",
   "name": "python3"
  },
  "language_info": {
   "codemirror_mode": {
    "name": "ipython",
    "version": 3
   },
   "file_extension": ".py",
   "mimetype": "text/x-python",
   "name": "python",
   "nbconvert_exporter": "python",
   "pygments_lexer": "ipython3",
   "version": "3.11.11"
  },
  "papermill": {
   "default_parameters": {},
   "duration": 747.179717,
   "end_time": "2025-05-28T09:23:34.840446",
   "environment_variables": {},
   "exception": null,
   "input_path": "__notebook__.ipynb",
   "output_path": "__notebook__.ipynb",
   "parameters": {},
   "start_time": "2025-05-28T09:11:07.660729",
   "version": "2.6.0"
  }
 },
 "nbformat": 4,
 "nbformat_minor": 5
}
